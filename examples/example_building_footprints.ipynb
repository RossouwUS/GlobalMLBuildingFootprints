{
 "cells": [
  {
   "cell_type": "code",
   "execution_count": 5,
   "metadata": {},
   "outputs": [],
   "source": [
    "import pandas as pd\n",
    "import geopandas as gpd\n",
    "from shapely import geometry\n",
    "import mercantile\n",
    "from tqdm import tqdm\n",
    "import os\n",
    "import tempfile"
   ]
  },
  {
   "cell_type": "markdown",
   "metadata": {},
   "source": [
    "## Step 1 - Define our area of interest (AOI)\n",
    "\n",
    "We define our area of interest (or AOI) as a GeoJSON geometry, then use the `shapely` library to get the bounding box.\n",
    "\n",
    "**Note**: the coordinate reference system for the GeoJSON should be \"EPSG:4326\", i.e. in global lat/lon format."
   ]
  },
  {
   "cell_type": "code",
   "execution_count": 7,
   "metadata": {},
   "outputs": [],
   "source": [
    "# Geometry copied from https://geojson.io\n",
    "aoi_geom = {\n",
    "    \"coordinates\": [\n",
    "        [\n",
    "            [\n",
    "              28.28212184503178,\n",
    "              -26.116476754935455\n",
    "            ],\n",
    "            [\n",
    "              28.28189785219746,\n",
    "              -26.116756799833695\n",
    "            ],\n",
    "            [\n",
    "              28.282306142934033,\n",
    "              -26.11716922837192\n",
    "            ],\n",
    "            [\n",
    "              28.28283918917262,\n",
    "              -26.117217599524878\n",
    "            ],\n",
    "            [\n",
    "              28.283559368665635,\n",
    "              -26.116810262874203\n",
    "            ],\n",
    "            [\n",
    "              28.28300931031248,\n",
    "              -26.116789896005358\n",
    "            ],\n",
    "            [\n",
    "              28.283029157779225,\n",
    "              -26.11655313088339\n",
    "            ],\n",
    "            [\n",
    "              28.28212184503178,\n",
    "              -26.116476754935455\n",
    "            ],\n",
    "        ]\n",
    "    ],\n",
    "    \"type\": \"Polygon\",\n",
    "}\n",
    "aoi_shape = geometry.shape(aoi_geom)\n",
    "minx, miny, maxx, maxy = aoi_shape.bounds\n",
    "\n",
    "output_fn = \"example_building_footprints.geojson\""
   ]
  },
  {
   "cell_type": "code",
   "execution_count": null,
   "metadata": {},
   "outputs": [],
   "source": [
    "{\n",
    "  \"type\": \"FeatureCollection\",\n",
    "  \"features\": [\n",
    "    {\n",
    "      \"type\": \"Feature\",\n",
    "      \"properties\": {},\n",
    "      \"geometry\": {\n",
    "        \"coordinates\": [\n",
    "          [\n",
    "            [\n",
    "              28.28212184503178,\n",
    "              -26.116476754935455\n",
    "            ],\n",
    "            [\n",
    "              28.28189785219746,\n",
    "              -26.116756799833695\n",
    "            ],\n",
    "            [\n",
    "              28.282306142934033,\n",
    "              -26.11716922837192\n",
    "            ],\n",
    "            [\n",
    "              28.28283918917262,\n",
    "              -26.117217599524878\n",
    "            ],\n",
    "            [\n",
    "              28.283559368665635,\n",
    "              -26.116810262874203\n",
    "            ],\n",
    "            [\n",
    "              28.28300931031248,\n",
    "              -26.116789896005358\n",
    "            ],\n",
    "            [\n",
    "              28.283029157779225,\n",
    "              -26.11655313088339\n",
    "            ],\n",
    "            [\n",
    "              28.28212184503178,\n",
    "              -26.116476754935455\n",
    "            ]\n",
    "          ]\n",
    "        ],\n",
    "        \"type\": \"Polygon\"\n",
    "      }\n",
    "    }\n",
    "  ]\n",
    "}"
   ]
  },
  {
   "cell_type": "markdown",
   "metadata": {},
   "source": [
    "## Step 2 - Determine which tiles intersect our AOI"
   ]
  },
  {
   "cell_type": "code",
   "execution_count": 8,
   "metadata": {},
   "outputs": [
    {
     "name": "stdout",
     "output_type": "stream",
     "text": [
      "The input area spans 1 tiles: ['300301220']\n"
     ]
    }
   ],
   "source": [
    "quad_keys = set()\n",
    "for tile in list(mercantile.tiles(minx, miny, maxx, maxy, zooms=9)):\n",
    "    quad_keys.add(mercantile.quadkey(tile))\n",
    "quad_keys = list(quad_keys)\n",
    "print(f\"The input area spans {len(quad_keys)} tiles: {quad_keys}\")"
   ]
  },
  {
   "cell_type": "markdown",
   "metadata": {},
   "source": [
    "## Step 3 - Download the building footprints for each tile that intersects our AOI and crop the results\n",
    "\n",
    "This is where most of the magic happens. We download all the building footprints for each tile that intersects our AOI, then only keep the footprints that are _contained_ by our AOI.\n",
    "\n",
    "*Note*: this step might take awhile depending on how many tiles your AOI covers and how many buildings footprints are in those tiles."
   ]
  },
  {
   "cell_type": "code",
   "execution_count": 9,
   "metadata": {},
   "outputs": [
    {
     "data": {
      "text/html": [
       "<div>\n",
       "<style scoped>\n",
       "    .dataframe tbody tr th:only-of-type {\n",
       "        vertical-align: middle;\n",
       "    }\n",
       "\n",
       "    .dataframe tbody tr th {\n",
       "        vertical-align: top;\n",
       "    }\n",
       "\n",
       "    .dataframe thead th {\n",
       "        text-align: right;\n",
       "    }\n",
       "</style>\n",
       "<table border=\"1\" class=\"dataframe\">\n",
       "  <thead>\n",
       "    <tr style=\"text-align: right;\">\n",
       "      <th></th>\n",
       "      <th>Location</th>\n",
       "      <th>QuadKey</th>\n",
       "      <th>Url</th>\n",
       "      <th>Size</th>\n",
       "      <th>UploadDate</th>\n",
       "    </tr>\n",
       "  </thead>\n",
       "  <tbody>\n",
       "    <tr>\n",
       "      <th>0</th>\n",
       "      <td>Abyei</td>\n",
       "      <td>122320113</td>\n",
       "      <td>https://minedbuildings.z5.web.core.windows.net...</td>\n",
       "      <td>74.5KB</td>\n",
       "      <td>2025-02-28</td>\n",
       "    </tr>\n",
       "    <tr>\n",
       "      <th>1</th>\n",
       "      <td>Abyei</td>\n",
       "      <td>122320131</td>\n",
       "      <td>https://minedbuildings.z5.web.core.windows.net...</td>\n",
       "      <td>8.3KB</td>\n",
       "      <td>2025-02-28</td>\n",
       "    </tr>\n",
       "    <tr>\n",
       "      <th>2</th>\n",
       "      <td>Abyei</td>\n",
       "      <td>122321002</td>\n",
       "      <td>https://minedbuildings.z5.web.core.windows.net...</td>\n",
       "      <td>392.2KB</td>\n",
       "      <td>2025-02-28</td>\n",
       "    </tr>\n",
       "    <tr>\n",
       "      <th>3</th>\n",
       "      <td>Abyei</td>\n",
       "      <td>122321003</td>\n",
       "      <td>https://minedbuildings.z5.web.core.windows.net...</td>\n",
       "      <td>72.8KB</td>\n",
       "      <td>2025-02-28</td>\n",
       "    </tr>\n",
       "    <tr>\n",
       "      <th>4</th>\n",
       "      <td>Abyei</td>\n",
       "      <td>122321020</td>\n",
       "      <td>https://minedbuildings.z5.web.core.windows.net...</td>\n",
       "      <td>1.2MB</td>\n",
       "      <td>2025-02-28</td>\n",
       "    </tr>\n",
       "  </tbody>\n",
       "</table>\n",
       "</div>"
      ],
      "text/plain": [
       "  Location    QuadKey                                                Url  \\\n",
       "0    Abyei  122320113  https://minedbuildings.z5.web.core.windows.net...   \n",
       "1    Abyei  122320131  https://minedbuildings.z5.web.core.windows.net...   \n",
       "2    Abyei  122321002  https://minedbuildings.z5.web.core.windows.net...   \n",
       "3    Abyei  122321003  https://minedbuildings.z5.web.core.windows.net...   \n",
       "4    Abyei  122321020  https://minedbuildings.z5.web.core.windows.net...   \n",
       "\n",
       "      Size  UploadDate  \n",
       "0   74.5KB  2025-02-28  \n",
       "1    8.3KB  2025-02-28  \n",
       "2  392.2KB  2025-02-28  \n",
       "3   72.8KB  2025-02-28  \n",
       "4    1.2MB  2025-02-28  "
      ]
     },
     "execution_count": 9,
     "metadata": {},
     "output_type": "execute_result"
    }
   ],
   "source": [
    "df = pd.read_csv(\n",
    "    \"https://minedbuildings.z5.web.core.windows.net/global-buildings/dataset-links.csv\", dtype=str\n",
    ")\n",
    "df.head()"
   ]
  },
  {
   "cell_type": "code",
   "execution_count": 10,
   "metadata": {},
   "outputs": [
    {
     "name": "stderr",
     "output_type": "stream",
     "text": [
      "100%|██████████| 1/1 [03:12<00:00, 192.99s/it]\n"
     ]
    }
   ],
   "source": [
    "idx = 0\n",
    "combined_gdf = gpd.GeoDataFrame()\n",
    "with tempfile.TemporaryDirectory() as tmpdir:\n",
    "    # Download the GeoJSON files for each tile that intersects the input geometry\n",
    "    tmp_fns = []\n",
    "    for quad_key in tqdm(quad_keys):\n",
    "        rows = df[df[\"QuadKey\"] == quad_key]\n",
    "        if rows.shape[0] == 1:\n",
    "            url = rows.iloc[0][\"Url\"]\n",
    "\n",
    "            df2 = pd.read_json(url, lines=True)\n",
    "            df2[\"geometry\"] = df2[\"geometry\"].apply(geometry.shape)\n",
    "\n",
    "            gdf = gpd.GeoDataFrame(df2, crs=4326)\n",
    "            fn = os.path.join(tmpdir, f\"{quad_key}.geojson\")\n",
    "            tmp_fns.append(fn)\n",
    "            if not os.path.exists(fn):\n",
    "                gdf.to_file(fn, driver=\"GeoJSON\")\n",
    "        elif rows.shape[0] > 1:\n",
    "            raise ValueError(f\"Multiple rows found for QuadKey: {quad_key}\")\n",
    "        else:\n",
    "            raise ValueError(f\"QuadKey not found in dataset: {quad_key}\")\n",
    "\n",
    "    # Merge the GeoJSON files into a single file\n",
    "    for fn in tmp_fns:\n",
    "        gdf = gpd.read_file(fn)  # Read each file into a GeoDataFrame\n",
    "        gdf = gdf[gdf.geometry.within(aoi_shape)]  # Filter geometries within the AOI\n",
    "        gdf['id'] = range(idx, idx + len(gdf))  # Update 'id' based on idx\n",
    "        idx += len(gdf)\n",
    "        combined_gdf = pd.concat([combined_gdf,gdf],ignore_index=True)"
   ]
  },
  {
   "cell_type": "markdown",
   "metadata": {},
   "source": [
    "## Step 4 - Save the resulting footprints to file"
   ]
  },
  {
   "cell_type": "code",
   "execution_count": 13,
   "metadata": {},
   "outputs": [],
   "source": [
    "combined_gdf = combined_gdf.to_crs('EPSG:4326')\n",
    "combined_gdf.to_file(output_fn, driver='GeoJSON')"
   ]
  },
  {
   "cell_type": "code",
   "execution_count": 15,
   "metadata": {},
   "outputs": [
    {
     "name": "stdout",
     "output_type": "stream",
     "text": [
      "File saved successfully to: C:/Users/Rossouw/OneDrive - Urban Studies/Urban Studies - General/2. Proposals/2025/La Vie Facilities/GlobalMLBuildingFootprints-main/GlobalMLBuildingFootprints-main/Outputs/output.geojson\n"
     ]
    }
   ],
   "source": [
    "# Convert to WGS84 (EPSG:4326) if not already in that CRS\n",
    "combined_gdf = combined_gdf.to_crs('EPSG:4326')\n",
    "\n",
    "# Define the output directory and filename\n",
    "output_dir = \"C:/Users/Rossouw/OneDrive - Urban Studies/Urban Studies - General/2. Proposals/2025/La Vie Facilities/GlobalMLBuildingFootprints-main/GlobalMLBuildingFootprints-main/Outputs\" \n",
    "output_filename = \"output.geojson\"    # Or any name you prefer\n",
    "output_fn = f\"{output_dir}/{output_filename}\"\n",
    "\n",
    "# Save the GeoDataFrame to a GeoJSON file\n",
    "combined_gdf.to_file(output_fn, driver='GeoJSON')\n",
    "\n",
    "print(f\"File saved successfully to: {output_fn}\")"
   ]
  }
 ],
 "metadata": {
  "kernelspec": {
   "display_name": ".venv",
   "language": "python",
   "name": "python3"
  },
  "language_info": {
   "codemirror_mode": {
    "name": "ipython",
    "version": 3
   },
   "file_extension": ".py",
   "mimetype": "text/x-python",
   "name": "python",
   "nbconvert_exporter": "python",
   "pygments_lexer": "ipython3",
   "version": "3.11.9"
  }
 },
 "nbformat": 4,
 "nbformat_minor": 4
}
